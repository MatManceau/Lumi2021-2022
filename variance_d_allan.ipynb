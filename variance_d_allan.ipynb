{
 "cells": [
  {
   "cell_type": "code",
   "execution_count": 11,
   "metadata": {},
   "outputs": [],
   "source": [
    "%matplotlib inline\n",
    "import matplotlib.pyplot as plt\n",
    "import numpy as np"
   ]
  },
  {
   "cell_type": "markdown",
   "metadata": {},
   "source": [
    "# 1 Variance d'Allan"
   ]
  },
  {
   "cell_type": "markdown",
   "metadata": {},
   "source": [
    "## 1.2 Moyenne par paquet"
   ]
  },
  {
   "cell_type": "code",
   "execution_count": 2,
   "metadata": {},
   "outputs": [],
   "source": [
    "def average(data, n):\n",
    "    \"\"\" Moyenne les valeurs de data par paquets de taille n\"\"\"\n",
    "    databis = data[len(data)%n:]\n",
    "    return databis.reshape(len(data)//n, n).mean(axis=1)"
   ]
  },
  {
   "cell_type": "markdown",
   "metadata": {},
   "source": [
    "Tester la fonction average sur un tableau simple (arrange(37)) "
   ]
  },
  {
   "cell_type": "code",
   "execution_count": null,
   "metadata": {},
   "outputs": [],
   "source": []
  },
  {
   "cell_type": "markdown",
   "metadata": {},
   "source": [
    "## 1.3 Variance d'Allan"
   ]
  },
  {
   "cell_type": "markdown",
   "metadata": {},
   "source": [
    "Écrivez la fonction allan_variance_simple(data, n) qui calcule la variance d’Allan pour une valeur donnée de n."
   ]
  },
  {
   "cell_type": "code",
   "execution_count": null,
   "metadata": {},
   "outputs": [],
   "source": []
  },
  {
   "cell_type": "code",
   "execution_count": 7,
   "metadata": {},
   "outputs": [],
   "source": [
    "def allan_variance(data):\n",
    "    n_max = int(np.log2(len(data)))-1\n",
    "    Tn = 2**np.arange(n_max)\n",
    "    return Tn, np.array([allan_variance_simple(data, n) for n in Tn])"
   ]
  },
  {
   "cell_type": "code",
   "execution_count": 14,
   "metadata": {},
   "outputs": [],
   "source": [
    "def usual_variance(data):\n",
    "    n_max = int(np.log2(len(data)))-1\n",
    "    Tn = 2**np.arange(n_max)\n",
    "    return Tn, np.array([np.var(average(data, n)) for n in Tn])"
   ]
  },
  {
   "cell_type": "markdown",
   "metadata": {},
   "source": [
    "# 2 Exemple"
   ]
  },
  {
   "cell_type": "code",
   "execution_count": 8,
   "metadata": {},
   "outputs": [],
   "source": [
    "from numpy.random import normal"
   ]
  },
  {
   "cell_type": "markdown",
   "metadata": {},
   "source": [
    "On considère un bruit blanc de variance 1 ayant une distribution normale. Tracez sa\n",
    "variance d’Allan. On pourra créer ce bruit à l’aide de la fonction numpy.random.\n",
    "normal(size). On prendra 1024 points. Comparez avec le variance usuelle. Commentez.\n",
    "\n"
   ]
  },
  {
   "cell_type": "code",
   "execution_count": null,
   "metadata": {},
   "outputs": [],
   "source": []
  },
  {
   "cell_type": "markdown",
   "metadata": {},
   "source": [
    "On considère une marche aléatoire dont le pas est une distribution gaussienne de va-\n",
    "riance 0.1. Ce bruit peut être créé à partir de la fonction numpy.random.normal\n",
    "et de numpy.cumsum :"
   ]
  },
  {
   "cell_type": "code",
   "execution_count": 12,
   "metadata": {},
   "outputs": [],
   "source": [
    "data = 0.1*np.cumsum(np.random.normal(size=2**16))"
   ]
  },
  {
   "cell_type": "markdown",
   "metadata": {},
   "source": [
    "Tracez sa variance d’Allan. Comparez avec le variance usuelle. Commentez."
   ]
  },
  {
   "cell_type": "code",
   "execution_count": null,
   "metadata": {},
   "outputs": [],
   "source": []
  },
  {
   "cell_type": "markdown",
   "metadata": {},
   "source": [
    "Tracez la variance d’Allan de la somme des deux bruits précédents. Comparez avec le\n",
    "variance usuelle. Commentez."
   ]
  },
  {
   "cell_type": "code",
   "execution_count": null,
   "metadata": {},
   "outputs": [],
   "source": []
  },
  {
   "cell_type": "markdown",
   "metadata": {},
   "source": [
    "## Température"
   ]
  },
  {
   "cell_type": "markdown",
   "metadata": {},
   "source": [
    "Le fichier `temperature_londres.dat` contient pour chaque mois depuis 1772 la température moyenne mensuelle mesurée à Londres (une colone par mois). Importez ce fichier."
   ]
  },
  {
   "cell_type": "code",
   "execution_count": 31,
   "metadata": {},
   "outputs": [],
   "source": []
  },
  {
   "cell_type": "markdown",
   "metadata": {},
   "source": [
    "Tracez l’évolution temporelle de la temperature pour les mois de janvier, avril, juillet et octobre. Tracez leur variance d’Allan. De quel type de bruit s’agit-il ?\n"
   ]
  },
  {
   "cell_type": "code",
   "execution_count": null,
   "metadata": {},
   "outputs": [],
   "source": []
  },
  {
   "cell_type": "markdown",
   "metadata": {},
   "source": [
    "## CAC 40"
   ]
  },
  {
   "cell_type": "markdown",
   "metadata": {},
   "source": [
    "Le fichier `cac_40.csv` contient les valeurs journalière du CAC 40 depuis 1990. Ce fichier\n",
    "est le fichier directement importé depuis le site d’Euronext. Lire ce fichier et extraire la valeur\n",
    "d’ouverture de l’indice. \n"
   ]
  },
  {
   "cell_type": "code",
   "execution_count": 45,
   "metadata": {},
   "outputs": [],
   "source": []
  },
  {
   "cell_type": "markdown",
   "metadata": {},
   "source": [
    "Tracez la variance d’Allan et commentez."
   ]
  },
  {
   "cell_type": "code",
   "execution_count": null,
   "metadata": {},
   "outputs": [],
   "source": []
  }
 ],
 "metadata": {
  "kernelspec": {
   "display_name": "Python 3",
   "language": "python",
   "name": "python3"
  },
  "language_info": {
   "codemirror_mode": {
    "name": "ipython",
    "version": 3
   },
   "file_extension": ".py",
   "mimetype": "text/x-python",
   "name": "python",
   "nbconvert_exporter": "python",
   "pygments_lexer": "ipython3",
   "version": "3.8.5"
  }
 },
 "nbformat": 4,
 "nbformat_minor": 2
}
